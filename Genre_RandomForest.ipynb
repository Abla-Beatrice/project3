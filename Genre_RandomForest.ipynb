{
 "cells": [
  {
   "cell_type": "code",
   "execution_count": 2,
   "metadata": {},
   "outputs": [],
   "source": [
    "import pandas as pd"
   ]
  },
  {
   "cell_type": "code",
   "execution_count": 3,
   "metadata": {},
   "outputs": [
    {
     "data": {
      "text/html": [
       "<div>\n",
       "<style scoped>\n",
       "    .dataframe tbody tr th:only-of-type {\n",
       "        vertical-align: middle;\n",
       "    }\n",
       "\n",
       "    .dataframe tbody tr th {\n",
       "        vertical-align: top;\n",
       "    }\n",
       "\n",
       "    .dataframe thead th {\n",
       "        text-align: right;\n",
       "    }\n",
       "</style>\n",
       "<table border=\"1\" class=\"dataframe\">\n",
       "  <thead>\n",
       "    <tr style=\"text-align: right;\">\n",
       "      <th></th>\n",
       "      <th>SongID</th>\n",
       "      <th>Performer</th>\n",
       "      <th>Song</th>\n",
       "      <th>spotify_genre</th>\n",
       "      <th>spotify_track_id</th>\n",
       "      <th>spotify_track_preview_url</th>\n",
       "      <th>spotify_track_album</th>\n",
       "      <th>spotify_track_explicit</th>\n",
       "      <th>spotify_track_duration_ms</th>\n",
       "      <th>spotify_track_popularity</th>\n",
       "      <th>...</th>\n",
       "      <th>key</th>\n",
       "      <th>loudness</th>\n",
       "      <th>mode</th>\n",
       "      <th>speechiness</th>\n",
       "      <th>acousticness</th>\n",
       "      <th>instrumentalness</th>\n",
       "      <th>liveness</th>\n",
       "      <th>valence</th>\n",
       "      <th>tempo</th>\n",
       "      <th>time_signature</th>\n",
       "    </tr>\n",
       "  </thead>\n",
       "  <tbody>\n",
       "    <tr>\n",
       "      <th>0</th>\n",
       "      <td>AdictoTainy, Anuel AA &amp; Ozuna</td>\n",
       "      <td>Tainy, Anuel AA &amp; Ozuna</td>\n",
       "      <td>Adicto</td>\n",
       "      <td>['pop reggaeton']</td>\n",
       "      <td>3jbT1Y5MoPwEIpZndDDwVq</td>\n",
       "      <td>NaN</td>\n",
       "      <td>Adicto (with Anuel AA &amp; Ozuna)</td>\n",
       "      <td>0.0</td>\n",
       "      <td>270740.0</td>\n",
       "      <td>91.0</td>\n",
       "      <td>...</td>\n",
       "      <td>10.0</td>\n",
       "      <td>-4.803</td>\n",
       "      <td>0.0</td>\n",
       "      <td>0.0735</td>\n",
       "      <td>0.01700</td>\n",
       "      <td>0.000016</td>\n",
       "      <td>0.1790</td>\n",
       "      <td>0.623</td>\n",
       "      <td>80.002</td>\n",
       "      <td>4.0</td>\n",
       "    </tr>\n",
       "    <tr>\n",
       "      <th>1</th>\n",
       "      <td>The Ones That Didn't Make It Back HomeJustin M...</td>\n",
       "      <td>Justin Moore</td>\n",
       "      <td>The Ones That Didn't Make It Back Home</td>\n",
       "      <td>['arkansas country', 'contemporary country', '...</td>\n",
       "      <td>NaN</td>\n",
       "      <td>NaN</td>\n",
       "      <td>NaN</td>\n",
       "      <td>NaN</td>\n",
       "      <td>NaN</td>\n",
       "      <td>NaN</td>\n",
       "      <td>...</td>\n",
       "      <td>NaN</td>\n",
       "      <td>NaN</td>\n",
       "      <td>NaN</td>\n",
       "      <td>NaN</td>\n",
       "      <td>NaN</td>\n",
       "      <td>NaN</td>\n",
       "      <td>NaN</td>\n",
       "      <td>NaN</td>\n",
       "      <td>NaN</td>\n",
       "      <td>NaN</td>\n",
       "    </tr>\n",
       "    <tr>\n",
       "      <th>2</th>\n",
       "      <td>ShallowLady Gaga &amp; Bradley Cooper</td>\n",
       "      <td>Lady Gaga &amp; Bradley Cooper</td>\n",
       "      <td>Shallow</td>\n",
       "      <td>['dance pop', 'pop']</td>\n",
       "      <td>2VxeLyX666F8uXCJ0dZF8B</td>\n",
       "      <td>NaN</td>\n",
       "      <td>A Star Is Born Soundtrack</td>\n",
       "      <td>0.0</td>\n",
       "      <td>215733.0</td>\n",
       "      <td>88.0</td>\n",
       "      <td>...</td>\n",
       "      <td>7.0</td>\n",
       "      <td>-6.362</td>\n",
       "      <td>1.0</td>\n",
       "      <td>0.0308</td>\n",
       "      <td>0.37100</td>\n",
       "      <td>0.000000</td>\n",
       "      <td>0.2310</td>\n",
       "      <td>0.323</td>\n",
       "      <td>95.799</td>\n",
       "      <td>4.0</td>\n",
       "    </tr>\n",
       "    <tr>\n",
       "      <th>3</th>\n",
       "      <td>EnemiesPost Malone Featuring DaBaby</td>\n",
       "      <td>Post Malone Featuring DaBaby</td>\n",
       "      <td>Enemies</td>\n",
       "      <td>['dfw rap', 'melodic rap', 'rap']</td>\n",
       "      <td>0Xek5rqai2jcOWCYWJfVCF</td>\n",
       "      <td>NaN</td>\n",
       "      <td>Hollywood's Bleeding</td>\n",
       "      <td>1.0</td>\n",
       "      <td>196760.0</td>\n",
       "      <td>86.0</td>\n",
       "      <td>...</td>\n",
       "      <td>6.0</td>\n",
       "      <td>-4.169</td>\n",
       "      <td>1.0</td>\n",
       "      <td>0.2100</td>\n",
       "      <td>0.05880</td>\n",
       "      <td>0.000000</td>\n",
       "      <td>0.0955</td>\n",
       "      <td>0.667</td>\n",
       "      <td>76.388</td>\n",
       "      <td>4.0</td>\n",
       "    </tr>\n",
       "    <tr>\n",
       "      <th>4</th>\n",
       "      <td>Bacc At It AgainYella Beezy, Gucci Mane &amp; Quavo</td>\n",
       "      <td>Yella Beezy, Gucci Mane &amp; Quavo</td>\n",
       "      <td>Bacc At It Again</td>\n",
       "      <td>['dfw rap', 'rap', 'southern hip hop', 'trap']</td>\n",
       "      <td>2biNa12dMbHJrHVFRt8JyO</td>\n",
       "      <td>https://p.scdn.co/mp3-preview/fa6fa6f6f363be29...</td>\n",
       "      <td>Bacc At It Again</td>\n",
       "      <td>1.0</td>\n",
       "      <td>228185.0</td>\n",
       "      <td>61.0</td>\n",
       "      <td>...</td>\n",
       "      <td>8.0</td>\n",
       "      <td>-5.725</td>\n",
       "      <td>0.0</td>\n",
       "      <td>0.1680</td>\n",
       "      <td>0.00124</td>\n",
       "      <td>0.000001</td>\n",
       "      <td>0.0716</td>\n",
       "      <td>0.856</td>\n",
       "      <td>135.979</td>\n",
       "      <td>4.0</td>\n",
       "    </tr>\n",
       "  </tbody>\n",
       "</table>\n",
       "<p>5 rows × 22 columns</p>\n",
       "</div>"
      ],
      "text/plain": [
       "                                              SongID  \\\n",
       "0                      AdictoTainy, Anuel AA & Ozuna   \n",
       "1  The Ones That Didn't Make It Back HomeJustin M...   \n",
       "2                  ShallowLady Gaga & Bradley Cooper   \n",
       "3                EnemiesPost Malone Featuring DaBaby   \n",
       "4    Bacc At It AgainYella Beezy, Gucci Mane & Quavo   \n",
       "\n",
       "                         Performer                                    Song  \\\n",
       "0          Tainy, Anuel AA & Ozuna                                  Adicto   \n",
       "1                     Justin Moore  The Ones That Didn't Make It Back Home   \n",
       "2       Lady Gaga & Bradley Cooper                                 Shallow   \n",
       "3     Post Malone Featuring DaBaby                                 Enemies   \n",
       "4  Yella Beezy, Gucci Mane & Quavo                        Bacc At It Again   \n",
       "\n",
       "                                       spotify_genre        spotify_track_id  \\\n",
       "0                                  ['pop reggaeton']  3jbT1Y5MoPwEIpZndDDwVq   \n",
       "1  ['arkansas country', 'contemporary country', '...                     NaN   \n",
       "2                               ['dance pop', 'pop']  2VxeLyX666F8uXCJ0dZF8B   \n",
       "3                  ['dfw rap', 'melodic rap', 'rap']  0Xek5rqai2jcOWCYWJfVCF   \n",
       "4     ['dfw rap', 'rap', 'southern hip hop', 'trap']  2biNa12dMbHJrHVFRt8JyO   \n",
       "\n",
       "                           spotify_track_preview_url  \\\n",
       "0                                                NaN   \n",
       "1                                                NaN   \n",
       "2                                                NaN   \n",
       "3                                                NaN   \n",
       "4  https://p.scdn.co/mp3-preview/fa6fa6f6f363be29...   \n",
       "\n",
       "              spotify_track_album  spotify_track_explicit  \\\n",
       "0  Adicto (with Anuel AA & Ozuna)                     0.0   \n",
       "1                             NaN                     NaN   \n",
       "2       A Star Is Born Soundtrack                     0.0   \n",
       "3            Hollywood's Bleeding                     1.0   \n",
       "4                Bacc At It Again                     1.0   \n",
       "\n",
       "   spotify_track_duration_ms  spotify_track_popularity  ...   key  loudness  \\\n",
       "0                   270740.0                      91.0  ...  10.0    -4.803   \n",
       "1                        NaN                       NaN  ...   NaN       NaN   \n",
       "2                   215733.0                      88.0  ...   7.0    -6.362   \n",
       "3                   196760.0                      86.0  ...   6.0    -4.169   \n",
       "4                   228185.0                      61.0  ...   8.0    -5.725   \n",
       "\n",
       "   mode  speechiness  acousticness  instrumentalness  liveness  valence  \\\n",
       "0   0.0       0.0735       0.01700          0.000016    0.1790    0.623   \n",
       "1   NaN          NaN           NaN               NaN       NaN      NaN   \n",
       "2   1.0       0.0308       0.37100          0.000000    0.2310    0.323   \n",
       "3   1.0       0.2100       0.05880          0.000000    0.0955    0.667   \n",
       "4   0.0       0.1680       0.00124          0.000001    0.0716    0.856   \n",
       "\n",
       "     tempo  time_signature  \n",
       "0   80.002             4.0  \n",
       "1      NaN             NaN  \n",
       "2   95.799             4.0  \n",
       "3   76.388             4.0  \n",
       "4  135.979             4.0  \n",
       "\n",
       "[5 rows x 22 columns]"
      ]
     },
     "execution_count": 3,
     "metadata": {},
     "output_type": "execute_result"
    }
   ],
   "source": [
    "audio = pd.read_csv('data/hot_100_audio_features.csv')\n",
    "audio.head()\n"
   ]
  },
  {
   "cell_type": "code",
   "execution_count": 4,
   "metadata": {
    "scrolled": true
   },
   "outputs": [],
   "source": [
    "# billboard = pd.read_csv('data/billboard_hot_100_1958_2019.csv')\n",
    "# billboard.head()"
   ]
  },
  {
   "cell_type": "code",
   "execution_count": 6,
   "metadata": {},
   "outputs": [],
   "source": [
    "genre = pd.read_csv('data/songGenre.csv')[['track_id','supergenre']].rename(columns = {'songid':'SongID'})\n",
    "genre = genre.drop_duplicates()"
   ]
  },
  {
   "cell_type": "code",
   "execution_count": 7,
   "metadata": {},
   "outputs": [
    {
     "ename": "KeyError",
     "evalue": "'track_id'",
     "output_type": "error",
     "traceback": [
      "\u001b[1;31m---------------------------------------------------------------------------\u001b[0m",
      "\u001b[1;31mKeyError\u001b[0m                                  Traceback (most recent call last)",
      "\u001b[1;32m<ipython-input-7-488648728036>\u001b[0m in \u001b[0;36m<module>\u001b[1;34m\u001b[0m\n\u001b[1;32m----> 1\u001b[1;33m \u001b[0mjoin_df\u001b[0m \u001b[1;33m=\u001b[0m \u001b[0mgenre\u001b[0m\u001b[1;33m.\u001b[0m\u001b[0mmerge\u001b[0m\u001b[1;33m(\u001b[0m\u001b[0maudio\u001b[0m\u001b[1;33m,\u001b[0m \u001b[0mon\u001b[0m \u001b[1;33m=\u001b[0m \u001b[1;34m'track_id'\u001b[0m\u001b[1;33m,\u001b[0m \u001b[0mhow\u001b[0m \u001b[1;33m=\u001b[0m \u001b[1;34m'left'\u001b[0m\u001b[1;33m)\u001b[0m\u001b[1;33m.\u001b[0m\u001b[0mdropna\u001b[0m\u001b[1;33m(\u001b[0m\u001b[0mhow\u001b[0m\u001b[1;33m=\u001b[0m\u001b[1;34m'any'\u001b[0m\u001b[1;33m)\u001b[0m\u001b[1;33m\u001b[0m\u001b[1;33m\u001b[0m\u001b[0m\n\u001b[0m\u001b[0;32m      2\u001b[0m \u001b[0mtarget\u001b[0m \u001b[1;33m=\u001b[0m \u001b[0mjoin_df\u001b[0m\u001b[1;33m[\u001b[0m\u001b[1;33m[\u001b[0m\u001b[1;34m'supergenre'\u001b[0m\u001b[1;33m]\u001b[0m\u001b[1;33m]\u001b[0m\u001b[1;33m\u001b[0m\u001b[1;33m\u001b[0m\u001b[0m\n\u001b[0;32m      3\u001b[0m \u001b[0mfeatures\u001b[0m \u001b[1;33m=\u001b[0m \u001b[0mjoin_df\u001b[0m\u001b[1;33m[\u001b[0m\u001b[1;33m[\u001b[0m\u001b[1;34m'spotify_track_duration_ms'\u001b[0m\u001b[1;33m,\u001b[0m\u001b[1;34m'danceability'\u001b[0m\u001b[1;33m,\u001b[0m\u001b[1;34m'energy'\u001b[0m\u001b[1;33m,\u001b[0m\u001b[1;34m'key'\u001b[0m\u001b[1;33m,\u001b[0m\u001b[1;34m'loudness'\u001b[0m\u001b[1;33m,\u001b[0m\u001b[1;34m'mode'\u001b[0m\u001b[1;33m,\u001b[0m\u001b[1;34m'speechiness'\u001b[0m\u001b[1;33m,\u001b[0m\u001b[1;34m'acousticness'\u001b[0m\u001b[1;33m,\u001b[0m\u001b[1;34m'instrumentalness'\u001b[0m\u001b[1;33m,\u001b[0m\u001b[1;34m'liveness'\u001b[0m\u001b[1;33m,\u001b[0m\u001b[1;34m'valence'\u001b[0m\u001b[1;33m,\u001b[0m\u001b[1;34m'tempo'\u001b[0m\u001b[1;33m]\u001b[0m\u001b[1;33m]\u001b[0m\u001b[1;33m\u001b[0m\u001b[1;33m\u001b[0m\u001b[0m\n\u001b[0;32m      4\u001b[0m \u001b[0mfeature_names\u001b[0m \u001b[1;33m=\u001b[0m \u001b[1;33m[\u001b[0m\u001b[1;34m'spotify_track_duration_ms'\u001b[0m\u001b[1;33m,\u001b[0m\u001b[1;34m'danceability'\u001b[0m\u001b[1;33m,\u001b[0m\u001b[1;34m'energy'\u001b[0m\u001b[1;33m,\u001b[0m\u001b[1;34m'key'\u001b[0m\u001b[1;33m,\u001b[0m\u001b[1;34m'loudness'\u001b[0m\u001b[1;33m,\u001b[0m\u001b[1;34m'mode'\u001b[0m\u001b[1;33m,\u001b[0m\u001b[1;34m'speechiness'\u001b[0m\u001b[1;33m,\u001b[0m\u001b[1;34m'acousticness'\u001b[0m\u001b[1;33m,\u001b[0m\u001b[1;34m'instrumentalness'\u001b[0m\u001b[1;33m,\u001b[0m\u001b[1;34m'liveness'\u001b[0m\u001b[1;33m,\u001b[0m\u001b[1;34m'valence'\u001b[0m\u001b[1;33m,\u001b[0m\u001b[1;34m'tempo'\u001b[0m\u001b[1;33m]\u001b[0m\u001b[1;33m\u001b[0m\u001b[1;33m\u001b[0m\u001b[0m\n",
      "\u001b[1;32m~\\anaconda3\\envs\\PythonData\\lib\\site-packages\\pandas\\core\\frame.py\u001b[0m in \u001b[0;36mmerge\u001b[1;34m(self, right, how, on, left_on, right_on, left_index, right_index, sort, suffixes, copy, indicator, validate)\u001b[0m\n\u001b[0;32m   7295\u001b[0m             \u001b[0mcopy\u001b[0m\u001b[1;33m=\u001b[0m\u001b[0mcopy\u001b[0m\u001b[1;33m,\u001b[0m\u001b[1;33m\u001b[0m\u001b[1;33m\u001b[0m\u001b[0m\n\u001b[0;32m   7296\u001b[0m             \u001b[0mindicator\u001b[0m\u001b[1;33m=\u001b[0m\u001b[0mindicator\u001b[0m\u001b[1;33m,\u001b[0m\u001b[1;33m\u001b[0m\u001b[1;33m\u001b[0m\u001b[0m\n\u001b[1;32m-> 7297\u001b[1;33m             \u001b[0mvalidate\u001b[0m\u001b[1;33m=\u001b[0m\u001b[0mvalidate\u001b[0m\u001b[1;33m,\u001b[0m\u001b[1;33m\u001b[0m\u001b[1;33m\u001b[0m\u001b[0m\n\u001b[0m\u001b[0;32m   7298\u001b[0m         )\n\u001b[0;32m   7299\u001b[0m \u001b[1;33m\u001b[0m\u001b[0m\n",
      "\u001b[1;32m~\\anaconda3\\envs\\PythonData\\lib\\site-packages\\pandas\\core\\reshape\\merge.py\u001b[0m in \u001b[0;36mmerge\u001b[1;34m(left, right, how, on, left_on, right_on, left_index, right_index, sort, suffixes, copy, indicator, validate)\u001b[0m\n\u001b[0;32m     84\u001b[0m         \u001b[0mcopy\u001b[0m\u001b[1;33m=\u001b[0m\u001b[0mcopy\u001b[0m\u001b[1;33m,\u001b[0m\u001b[1;33m\u001b[0m\u001b[1;33m\u001b[0m\u001b[0m\n\u001b[0;32m     85\u001b[0m         \u001b[0mindicator\u001b[0m\u001b[1;33m=\u001b[0m\u001b[0mindicator\u001b[0m\u001b[1;33m,\u001b[0m\u001b[1;33m\u001b[0m\u001b[1;33m\u001b[0m\u001b[0m\n\u001b[1;32m---> 86\u001b[1;33m         \u001b[0mvalidate\u001b[0m\u001b[1;33m=\u001b[0m\u001b[0mvalidate\u001b[0m\u001b[1;33m,\u001b[0m\u001b[1;33m\u001b[0m\u001b[1;33m\u001b[0m\u001b[0m\n\u001b[0m\u001b[0;32m     87\u001b[0m     )\n\u001b[0;32m     88\u001b[0m     \u001b[1;32mreturn\u001b[0m \u001b[0mop\u001b[0m\u001b[1;33m.\u001b[0m\u001b[0mget_result\u001b[0m\u001b[1;33m(\u001b[0m\u001b[1;33m)\u001b[0m\u001b[1;33m\u001b[0m\u001b[1;33m\u001b[0m\u001b[0m\n",
      "\u001b[1;32m~\\anaconda3\\envs\\PythonData\\lib\\site-packages\\pandas\\core\\reshape\\merge.py\u001b[0m in \u001b[0;36m__init__\u001b[1;34m(self, left, right, how, on, left_on, right_on, axis, left_index, right_index, sort, suffixes, copy, indicator, validate)\u001b[0m\n\u001b[0;32m    625\u001b[0m             \u001b[0mself\u001b[0m\u001b[1;33m.\u001b[0m\u001b[0mright_join_keys\u001b[0m\u001b[1;33m,\u001b[0m\u001b[1;33m\u001b[0m\u001b[1;33m\u001b[0m\u001b[0m\n\u001b[0;32m    626\u001b[0m             \u001b[0mself\u001b[0m\u001b[1;33m.\u001b[0m\u001b[0mjoin_names\u001b[0m\u001b[1;33m,\u001b[0m\u001b[1;33m\u001b[0m\u001b[1;33m\u001b[0m\u001b[0m\n\u001b[1;32m--> 627\u001b[1;33m         ) = self._get_merge_keys()\n\u001b[0m\u001b[0;32m    628\u001b[0m \u001b[1;33m\u001b[0m\u001b[0m\n\u001b[0;32m    629\u001b[0m         \u001b[1;31m# validate the merge keys dtypes. We may need to coerce\u001b[0m\u001b[1;33m\u001b[0m\u001b[1;33m\u001b[0m\u001b[1;33m\u001b[0m\u001b[0m\n",
      "\u001b[1;32m~\\anaconda3\\envs\\PythonData\\lib\\site-packages\\pandas\\core\\reshape\\merge.py\u001b[0m in \u001b[0;36m_get_merge_keys\u001b[1;34m(self)\u001b[0m\n\u001b[0;32m    981\u001b[0m                     \u001b[1;32mif\u001b[0m \u001b[1;32mnot\u001b[0m \u001b[0mis_rkey\u001b[0m\u001b[1;33m(\u001b[0m\u001b[0mrk\u001b[0m\u001b[1;33m)\u001b[0m\u001b[1;33m:\u001b[0m\u001b[1;33m\u001b[0m\u001b[1;33m\u001b[0m\u001b[0m\n\u001b[0;32m    982\u001b[0m                         \u001b[1;32mif\u001b[0m \u001b[0mrk\u001b[0m \u001b[1;32mis\u001b[0m \u001b[1;32mnot\u001b[0m \u001b[1;32mNone\u001b[0m\u001b[1;33m:\u001b[0m\u001b[1;33m\u001b[0m\u001b[1;33m\u001b[0m\u001b[0m\n\u001b[1;32m--> 983\u001b[1;33m                             \u001b[0mright_keys\u001b[0m\u001b[1;33m.\u001b[0m\u001b[0mappend\u001b[0m\u001b[1;33m(\u001b[0m\u001b[0mright\u001b[0m\u001b[1;33m.\u001b[0m\u001b[0m_get_label_or_level_values\u001b[0m\u001b[1;33m(\u001b[0m\u001b[0mrk\u001b[0m\u001b[1;33m)\u001b[0m\u001b[1;33m)\u001b[0m\u001b[1;33m\u001b[0m\u001b[1;33m\u001b[0m\u001b[0m\n\u001b[0m\u001b[0;32m    984\u001b[0m                         \u001b[1;32melse\u001b[0m\u001b[1;33m:\u001b[0m\u001b[1;33m\u001b[0m\u001b[1;33m\u001b[0m\u001b[0m\n\u001b[0;32m    985\u001b[0m                             \u001b[1;31m# work-around for merge_asof(right_index=True)\u001b[0m\u001b[1;33m\u001b[0m\u001b[1;33m\u001b[0m\u001b[1;33m\u001b[0m\u001b[0m\n",
      "\u001b[1;32m~\\anaconda3\\envs\\PythonData\\lib\\site-packages\\pandas\\core\\generic.py\u001b[0m in \u001b[0;36m_get_label_or_level_values\u001b[1;34m(self, key, axis)\u001b[0m\n\u001b[0;32m   1690\u001b[0m             \u001b[0mvalues\u001b[0m \u001b[1;33m=\u001b[0m \u001b[0mself\u001b[0m\u001b[1;33m.\u001b[0m\u001b[0maxes\u001b[0m\u001b[1;33m[\u001b[0m\u001b[0maxis\u001b[0m\u001b[1;33m]\u001b[0m\u001b[1;33m.\u001b[0m\u001b[0mget_level_values\u001b[0m\u001b[1;33m(\u001b[0m\u001b[0mkey\u001b[0m\u001b[1;33m)\u001b[0m\u001b[1;33m.\u001b[0m\u001b[0m_values\u001b[0m\u001b[1;33m\u001b[0m\u001b[1;33m\u001b[0m\u001b[0m\n\u001b[0;32m   1691\u001b[0m         \u001b[1;32melse\u001b[0m\u001b[1;33m:\u001b[0m\u001b[1;33m\u001b[0m\u001b[1;33m\u001b[0m\u001b[0m\n\u001b[1;32m-> 1692\u001b[1;33m             \u001b[1;32mraise\u001b[0m \u001b[0mKeyError\u001b[0m\u001b[1;33m(\u001b[0m\u001b[0mkey\u001b[0m\u001b[1;33m)\u001b[0m\u001b[1;33m\u001b[0m\u001b[1;33m\u001b[0m\u001b[0m\n\u001b[0m\u001b[0;32m   1693\u001b[0m \u001b[1;33m\u001b[0m\u001b[0m\n\u001b[0;32m   1694\u001b[0m         \u001b[1;31m# Check for duplicates\u001b[0m\u001b[1;33m\u001b[0m\u001b[1;33m\u001b[0m\u001b[1;33m\u001b[0m\u001b[0m\n",
      "\u001b[1;31mKeyError\u001b[0m: 'track_id'"
     ]
    }
   ],
   "source": [
    "join_df = genre.merge(audio, on = 'track_id', how = 'left').dropna(how='any')\n",
    "target = join_df[['supergenre']]\n",
    "features = join_df[['spotify_track_duration_ms','danceability','energy','key','loudness','mode','speechiness','acousticness','instrumentalness','liveness','valence','tempo']]\n",
    "feature_names = ['spotify_track_duration_ms','danceability','energy','key','loudness','mode','speechiness','acousticness','instrumentalness','liveness','valence','tempo']"
   ]
  },
  {
   "cell_type": "code",
   "execution_count": 1,
   "metadata": {},
   "outputs": [
    {
     "ename": "NameError",
     "evalue": "name 'feature_names' is not defined",
     "output_type": "error",
     "traceback": [
      "\u001b[1;31m---------------------------------------------------------------------------\u001b[0m",
      "\u001b[1;31mNameError\u001b[0m                                 Traceback (most recent call last)",
      "\u001b[1;32m<ipython-input-1-f9e98b7ecd20>\u001b[0m in \u001b[0;36m<module>\u001b[1;34m\u001b[0m\n\u001b[1;32m----> 1\u001b[1;33m \u001b[1;32mfor\u001b[0m \u001b[0mfield\u001b[0m \u001b[1;32min\u001b[0m \u001b[0mfeature_names\u001b[0m\u001b[1;33m:\u001b[0m\u001b[1;33m\u001b[0m\u001b[1;33m\u001b[0m\u001b[0m\n\u001b[0m\u001b[0;32m      2\u001b[0m     \u001b[0mboxplot\u001b[0m \u001b[1;33m=\u001b[0m \u001b[0mjoin_df\u001b[0m\u001b[1;33m[\u001b[0m\u001b[1;33m[\u001b[0m\u001b[1;34m'supergenre'\u001b[0m\u001b[1;33m,\u001b[0m\u001b[1;34mf'{field}'\u001b[0m\u001b[1;33m]\u001b[0m\u001b[1;33m]\u001b[0m\u001b[1;33m.\u001b[0m\u001b[0mboxplot\u001b[0m\u001b[1;33m(\u001b[0m\u001b[0mby\u001b[0m\u001b[1;33m=\u001b[0m\u001b[1;34m'supgergenre'\u001b[0m\u001b[1;33m)\u001b[0m\u001b[1;33m\u001b[0m\u001b[1;33m\u001b[0m\u001b[0m\n",
      "\u001b[1;31mNameError\u001b[0m: name 'feature_names' is not defined"
     ]
    }
   ],
   "source": [
    "for field in feature_names:\n",
    "    boxplot = join_df[['supergenre',f'{field}']].boxplot(by='supgergenre')"
   ]
  },
  {
   "cell_type": "code",
   "execution_count": 28,
   "metadata": {},
   "outputs": [],
   "source": [
    "from sklearn.model_selection import train_test_split\n",
    "X_train, X_test, y_train, y_test = train_test_split(features, target, random_state=420)"
   ]
  },
  {
   "cell_type": "code",
   "execution_count": 29,
   "metadata": {},
   "outputs": [
    {
     "name": "stderr",
     "output_type": "stream",
     "text": [
      "C:\\Users\\msflo\\anaconda3\\envs\\PythonData\\lib\\site-packages\\ipykernel_launcher.py:3: DataConversionWarning: A column-vector y was passed when a 1d array was expected. Please change the shape of y to (n_samples,), for example using ravel().\n",
      "  This is separate from the ipykernel package so we can avoid doing imports until\n"
     ]
    },
    {
     "data": {
      "text/plain": [
       "0.43125533731853116"
      ]
     },
     "execution_count": 29,
     "metadata": {},
     "output_type": "execute_result"
    }
   ],
   "source": [
    "from sklearn.ensemble import RandomForestClassifier\n",
    "rf = RandomForestClassifier(n_estimators=200)\n",
    "rf = rf.fit(X_train, y_train)\n",
    "rf.score(X_test, y_test)"
   ]
  },
  {
   "cell_type": "code",
   "execution_count": 32,
   "metadata": {},
   "outputs": [
    {
     "data": {
      "text/plain": [
       "[(0.10894291467069785, 'loudness'),\n",
       " (0.1063882766520501, 'speechiness'),\n",
       " (0.10260504883534731, 'danceability'),\n",
       " (0.0987107479149588, 'spotify_track_duration_ms'),\n",
       " (0.09568543966536859, 'acousticness'),\n",
       " (0.09230624540560088, 'valence'),\n",
       " (0.0891458264157472, 'tempo'),\n",
       " (0.08771069619942917, 'energy'),\n",
       " (0.08298234603120135, 'liveness'),\n",
       " (0.06664301403778249, 'instrumentalness'),\n",
       " (0.05496877988393817, 'key'),\n",
       " (0.013910664287878093, 'mode')]"
      ]
     },
     "execution_count": 32,
     "metadata": {},
     "output_type": "execute_result"
    }
   ],
   "source": [
    "sorted(zip(rf.feature_importances_, feature_names), reverse=True)"
   ]
  },
  {
   "cell_type": "code",
   "execution_count": 33,
   "metadata": {},
   "outputs": [
    {
     "name": "stdout",
     "output_type": "stream",
     "text": [
      "Parameters currently in use:\n",
      "\n",
      "{'bootstrap': True, 'ccp_alpha': 0.0, 'class_weight': None, 'criterion': 'gini', 'max_depth': None, 'max_features': 'auto', 'max_leaf_nodes': None, 'max_samples': None, 'min_impurity_decrease': 0.0, 'min_impurity_split': None, 'min_samples_leaf': 1, 'min_samples_split': 2, 'min_weight_fraction_leaf': 0.0, 'n_estimators': 200, 'n_jobs': None, 'oob_score': False, 'random_state': None, 'verbose': 0, 'warm_start': False}\n"
     ]
    }
   ],
   "source": [
    "print('Parameters currently in use:\\n')\n",
    "print(rf.get_params())"
   ]
  },
  {
   "cell_type": "code",
   "execution_count": 34,
   "metadata": {},
   "outputs": [
    {
     "name": "stdout",
     "output_type": "stream",
     "text": [
      "{'bootstrap': [True], 'max_depth': [80, 90, 100, 110], 'n_estimators': [100, 200, 300, 1000]}\n"
     ]
    }
   ],
   "source": [
    "# Create the parameter grid based on the results of random search \n",
    "feature_grid = {\n",
    "    'bootstrap': [True],\n",
    "    'max_depth': [80, 90, 100, 110],\n",
    "#     'max_features': [2, 3],\n",
    "#     'min_samples_leaf': [3, 4, 5],\n",
    "#     'min_samples_split': [8, 10, 12],\n",
    "    'n_estimators': [100, 200, 300, 1000]\n",
    "}\n",
    "print(feature_grid)\n"
   ]
  },
  {
   "cell_type": "code",
   "execution_count": 35,
   "metadata": {},
   "outputs": [],
   "source": [
    "from sklearn.model_selection import GridSearchCV\n",
    "grid = GridSearchCV(rf, feature_grid, verbose=3, n_jobs=-1)"
   ]
  },
  {
   "cell_type": "code",
   "execution_count": 36,
   "metadata": {},
   "outputs": [
    {
     "name": "stdout",
     "output_type": "stream",
     "text": [
      "Fitting 5 folds for each of 16 candidates, totalling 80 fits\n"
     ]
    },
    {
     "name": "stderr",
     "output_type": "stream",
     "text": [
      "[Parallel(n_jobs=-1)]: Using backend LokyBackend with 4 concurrent workers.\n",
      "[Parallel(n_jobs=-1)]: Done  24 tasks      | elapsed:  4.1min\n",
      "[Parallel(n_jobs=-1)]: Done  80 out of  80 | elapsed: 16.0min finished\n",
      "C:\\Users\\msflo\\anaconda3\\envs\\PythonData\\lib\\site-packages\\sklearn\\model_selection\\_search.py:739: DataConversionWarning: A column-vector y was passed when a 1d array was expected. Please change the shape of y to (n_samples,), for example using ravel().\n",
      "  self.best_estimator_.fit(X, y, **fit_params)\n"
     ]
    },
    {
     "data": {
      "text/plain": [
       "GridSearchCV(cv=None, error_score=nan,\n",
       "             estimator=RandomForestClassifier(bootstrap=True, ccp_alpha=0.0,\n",
       "                                              class_weight=None,\n",
       "                                              criterion='gini', max_depth=None,\n",
       "                                              max_features='auto',\n",
       "                                              max_leaf_nodes=None,\n",
       "                                              max_samples=None,\n",
       "                                              min_impurity_decrease=0.0,\n",
       "                                              min_impurity_split=None,\n",
       "                                              min_samples_leaf=1,\n",
       "                                              min_samples_split=2,\n",
       "                                              min_weight_fraction_leaf=0.0,\n",
       "                                              n_estimators=200, n_jobs=None,\n",
       "                                              oob_score=False,\n",
       "                                              random_state=None, verbose=0,\n",
       "                                              warm_start=False),\n",
       "             iid='deprecated', n_jobs=-1,\n",
       "             param_grid={'bootstrap': [True], 'max_depth': [80, 90, 100, 110],\n",
       "                         'n_estimators': [100, 200, 300, 1000]},\n",
       "             pre_dispatch='2*n_jobs', refit=True, return_train_score=False,\n",
       "             scoring=None, verbose=3)"
      ]
     },
     "execution_count": 36,
     "metadata": {},
     "output_type": "execute_result"
    }
   ],
   "source": [
    "grid.fit(X_train, y_train)"
   ]
  },
  {
   "cell_type": "code",
   "execution_count": 37,
   "metadata": {},
   "outputs": [
    {
     "name": "stdout",
     "output_type": "stream",
     "text": [
      "{'bootstrap': True, 'max_depth': 80, 'n_estimators': 1000}\n",
      "0.41753696227178044\n",
      "                 precision    recall  f1-score   support\n",
      "\n",
      "adult standards       0.50      0.02      0.04        50\n",
      "        country       0.58      0.29      0.39       262\n",
      "           folk       0.00      0.00      0.00        32\n",
      "         hiphop       0.51      0.29      0.37       146\n",
      "          house       0.00      0.00      0.00        51\n",
      "           jazz       0.36      0.05      0.09        78\n",
      "          latin       1.00      0.07      0.13        14\n",
      "          metal       0.67      0.04      0.07        52\n",
      "          other       0.34      0.24      0.28       481\n",
      "            pop       0.43      0.53      0.48       827\n",
      "            r&b       1.00      0.06      0.11        51\n",
      "            rap       0.61      0.42      0.50       164\n",
      "           rock       0.43      0.76      0.55       972\n",
      "     show tunes       0.00      0.00      0.00         5\n",
      "           soul       0.35      0.09      0.14       328\n",
      "\n",
      "       accuracy                           0.43      3513\n",
      "      macro avg       0.45      0.19      0.21      3513\n",
      "   weighted avg       0.44      0.43      0.39      3513\n",
      "\n"
     ]
    },
    {
     "name": "stderr",
     "output_type": "stream",
     "text": [
      "C:\\Users\\msflo\\anaconda3\\envs\\PythonData\\lib\\site-packages\\sklearn\\metrics\\_classification.py:1272: UndefinedMetricWarning: Precision and F-score are ill-defined and being set to 0.0 in labels with no predicted samples. Use `zero_division` parameter to control this behavior.\n",
      "  _warn_prf(average, modifier, msg_start, len(result))\n"
     ]
    }
   ],
   "source": [
    "print(grid.best_params_)\n",
    "print(grid.best_score_)\n",
    "predictions = grid.predict(X_test)\n",
    "\n",
    "from sklearn.metrics import classification_report\n",
    "print(classification_report(y_test, predictions))"
   ]
  },
  {
   "cell_type": "code",
   "execution_count": null,
   "metadata": {},
   "outputs": [],
   "source": [
    "# import joblib\n",
    "# joblib.dump(rf, 'model_RandomForest.sav')"
   ]
  }
 ],
 "metadata": {
  "kernelspec": {
   "display_name": "Python [conda env:PythonData]",
   "language": "python",
   "name": "conda-env-PythonData-py"
  },
  "language_info": {
   "codemirror_mode": {
    "name": "ipython",
    "version": 3
   },
   "file_extension": ".py",
   "mimetype": "text/x-python",
   "name": "python",
   "nbconvert_exporter": "python",
   "pygments_lexer": "ipython3",
   "version": "3.6.10"
  }
 },
 "nbformat": 4,
 "nbformat_minor": 4
}
